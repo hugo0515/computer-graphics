{
 "cells": [
  {
   "cell_type": "code",
   "execution_count": 1,
   "id": "95c1b584-31f0-4473-a6a0-ecdb41ff3fe8",
   "metadata": {},
   "outputs": [
    {
     "name": "stdout",
     "output_type": "stream",
     "text": [
      "The interpolated value at 2.5 is 3.03125\n"
     ]
    }
   ],
   "source": [
    "# HW 4. Implement Lagrange Interpolation\n",
    "def lagrange_interpolation(x, y, point):\n",
    "    \"\"\"\n",
    "    Lagrange Interpolation\n",
    "\n",
    "    Parameters:\n",
    "    x (list): List of x values.\n",
    "    y (list): List of y values.\n",
    "    point (float): The point at which to interpolate.\n",
    "\n",
    "    Returns:\n",
    "    float: Interpolated value at the given point.\n",
    "    \"\"\"\n",
    "\n",
    "    n = len(x)\n",
    "    result = 0.0\n",
    "\n",
    "    for i in range(n):\n",
    "        term = y[i]\n",
    "        for j in range(n):\n",
    "            if j != i:\n",
    "                term *= (point - x[j]) / (x[i] - x[j])\n",
    "        result += term\n",
    "\n",
    "    return result\n",
    "\n",
    "# Example usage:\n",
    "x = [1, 2, 3, 4, 5]\n",
    "y = [3, 6, 2, 7, 1]\n",
    "point = 2.5\n",
    "\n",
    "interpolated_value = lagrange_interpolation(x, y, point)\n",
    "print(f\"The interpolated value at {point} is {interpolated_value}\")"
   ]
  },
  {
   "cell_type": "code",
   "execution_count": null,
   "id": "7f18a109-dce5-48d7-b5f4-efc3692e95ce",
   "metadata": {},
   "outputs": [],
   "source": [
    "# function lagrange_interpolation takes in lists of x and y values, \n",
    "# and a point at which to interpolate. It then iterates over each point in \n",
    "# the data and computes the Lagrange interpolation formula to find the \n",
    "# interpolated value at the given point. Finally, it returns the interpolated value."
   ]
  }
 ],
 "metadata": {
  "kernelspec": {
   "display_name": "Python 3",
   "language": "python",
   "name": "python3"
  },
  "language_info": {
   "codemirror_mode": {
    "name": "ipython",
    "version": 3
   },
   "file_extension": ".py",
   "mimetype": "text/x-python",
   "name": "python",
   "nbconvert_exporter": "python",
   "pygments_lexer": "ipython3",
   "version": "3.9.16"
  }
 },
 "nbformat": 4,
 "nbformat_minor": 5
}
