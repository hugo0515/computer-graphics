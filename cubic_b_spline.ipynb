{
 "cells": [
  {
   "cell_type": "code",
   "execution_count": 2,
   "id": "b40c9ba6-3b0f-4201-9dad-b0aed4927f93",
   "metadata": {},
   "outputs": [],
   "source": [
    "# homework 7. Implement Cubic B-spline."
   ]
  },
  {
   "cell_type": "markdown",
   "id": "22cc1081-f225-4e53-98d1-bb73b074d46d",
   "metadata": {},
   "source": [
    "This implementation defines a function cubic_b_spline that computes a point on a cubic B-spline curve for a given parameter t, a list of control points points, and a knot vector knots. The function returns the (x,y) coordinates of the point on the curve."
   ]
  },
  {
   "cell_type": "markdown",
   "id": "521996ca-463e-423e-a238-ef312f725064",
   "metadata": {},
   "source": [
    "The B-spline algorithm requires m+n+1 knots for n control points, where m is the degree of the spline. Since we're using cubic splines (m=3), the total number of knots should be n+4"
   ]
  },
  {
   "cell_type": "code",
   "execution_count": 13,
   "id": "f6137fe5-b8b0-4ac1-9f52-226cb9efb89b",
   "metadata": {},
   "outputs": [
    {
     "data": {
      "image/png": "[encoded data removed]",
      "text/plain": [
       "<Figure size 432x288 with 1 Axes>"
      ]
     },
     "metadata": {
      "needs_background": "light"
     },
     "output_type": "display_data"
    }
   ],
   "source": [
    "import numpy as np\n",
    "import matplotlib.pyplot as plt\n",
    "\n",
    "def cubic_b_spline(control_points, num_points=100):\n",
    "    # Generate the knot vector\n",
    "    n = len(control_points)\n",
    "    k = 4  # Cubic B-spline\n",
    "    t = np.linspace(0, 1, n + k)\n",
    "\n",
    "    # Basis functions\n",
    "    def N(i, k, u, t):\n",
    "        if k == 1:\n",
    "            return 1.0 if t[i] <= u < t[i+1] else 0.0\n",
    "        else:\n",
    "            result = 0\n",
    "            if t[i+k-1] != t[i]:\n",
    "                result += (u - t[i]) / (t[i+k-1] - t[i]) * N(i, k-1, u, t)\n",
    "            if t[i+k] != t[i+1]:\n",
    "                result += (t[i+k] - u) / (t[i+k] - t[i+1]) * N(i+1, k-1, u, t)\n",
    "            return result\n",
    "\n",
    "    # Calculate points on the curve\n",
    "    curve_points = np.zeros((num_points, 2))\n",
    "    for i in range(num_points):\n",
    "        u = i / (num_points - 1)\n",
    "        curve_point = np.zeros(2)\n",
    "        for j, p in enumerate(control_points):\n",
    "            curve_point += p * N(j, k, u, t)\n",
    "        curve_points[i] = curve_point\n",
    "\n",
    "    return curve_points\n",
    "\n",
    "# Example control points\n",
    "control_points = np.array([\n",
    "    [0, 0],\n",
    "    [1, 1],\n",
    "    [2, -1],\n",
    "    [3, 0]\n",
    "])\n",
    "\n",
    "# Generate the B-spline curve\n",
    "curve = cubic_b_spline(control_points)\n",
    "\n",
    "# Plot the control points and the curve\n",
    "plt.plot(control_points[:, 0], control_points[:, 1], 'bo-', label='Control Points')\n",
    "plt.plot(curve[:, 0], curve[:, 1], 'r-', label='B-spline Curve')\n",
    "plt.title('Cubic B-spline')\n",
    "plt.xlabel('X')\n",
    "plt.ylabel('Y')\n",
    "plt.legend()\n",
    "plt.grid(True)\n",
    "plt.axis('equal')\n",
    "plt.show()"
   ]
  },
  {
   "cell_type": "code",
   "execution_count": null,
   "id": "a07dab2a-4f8a-40cd-9d0c-2123d80f27b5",
   "metadata": {},
   "outputs": [],
   "source": []
  }
 ],
 "metadata": {
  "kernelspec": {
   "display_name": "Python 3",
   "language": "python",
   "name": "python3"
  },
  "language_info": {
   "codemirror_mode": {
    "name": "ipython",
    "version": 3
   },
   "file_extension": ".py",
   "mimetype": "text/x-python",
   "name": "python",
   "nbconvert_exporter": "python",
   "pygments_lexer": "ipython3",
   "version": "3.9.16"
  }
 },
 "nbformat": 4,
 "nbformat_minor": 5
}
